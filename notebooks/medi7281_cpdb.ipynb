{
 "cells": [
  {
   "cell_type": "code",
   "execution_count": 1,
   "metadata": {},
   "outputs": [],
   "source": [
    "import pandas as pd\n",
    "import glob\n",
    "import os"
   ]
  },
  {
   "cell_type": "code",
   "execution_count": 2,
   "metadata": {},
   "outputs": [
    {
     "data": {
      "text/html": [
       "<table class=\"striped\"><tr><th style=\"text-align:center\">Version</th><th style=\"text-align:center\">Release date</th></tr><td style=\"text-align:center\"><a class=\"teal-text\" href=\"https://github.com/ventolab/cellphonedb-data/releases/tag/v4.1.0\">v4.1.0</a></td><td style=\"text-align:center\">2023-03-09</td></tr><tr><tr><tr></table>"
      ],
      "text/plain": [
       "<IPython.core.display.HTML object>"
      ]
     },
     "metadata": {},
     "output_type": "display_data"
    }
   ],
   "source": [
    "from IPython.display import HTML, display\n",
    "from cellphonedb.utils import db_releases_utils\n",
    "\n",
    "display(HTML(db_releases_utils.get_remote_database_versions_html()['db_releases_html_table']))"
   ]
  },
  {
   "cell_type": "code",
   "execution_count": 3,
   "metadata": {},
   "outputs": [],
   "source": [
    "# -- Version of the databse\n",
    "cpdb_version = 'v4.1.0'\n",
    "\n",
    "# -- Path where the input files to generate the database are located\n",
    "cpdb_target_dir = os.path.join('/QRISdata/Q6104/Charlotte', cpdb_version)"
   ]
  },
  {
   "cell_type": "code",
   "execution_count": 4,
   "metadata": {},
   "outputs": [],
   "source": [
    "from cellphonedb.utils import db_utils\n",
    "\n",
    "db_utils.download_database(cpdb_target_dir, cpdb_version)"
   ]
  },
  {
   "cell_type": "code",
   "execution_count": null,
   "metadata": {},
   "outputs": [
    {
     "data": {
      "text/plain": [
       "'/home/s4735100'"
      ]
     },
     "execution_count": 5,
     "metadata": {},
     "output_type": "execute_result"
    }
   ],
   "source": [
    "import os\n",
    "os.getcwd()"
   ]
  },
  {
   "cell_type": "code",
   "execution_count": null,
   "metadata": {},
   "outputs": [],
   "source": [
    "# we just downloaded this file from above\n",
    "cpdb_file_path = \"/QRISdata/Q6104/Charlotte/v4.1.0/cellphonedb.zip\"\n",
    "# we will create this one from our adata.obs\n",
    "meta_file_path = \"/scratch/user/s4735100/metadata.tsv\"\n",
    "# this is our adata .h5ad file\n",
    "count_file_path = \"/scratch/user/s4735100/countcpdb.h5ad\"\n",
    "# microenvs_file_path just ignore\n",
    "out_path = \"/scratch/user/s4735100/cellphonedb_out\""
   ]
  },
  {
   "cell_type": "code",
   "execution_count": null,
   "metadata": {},
   "outputs": [
    {
     "data": {
      "text/plain": [
       "AnnData object with n_obs × n_vars = 89927 × 1393\n",
       "    obs: 'patient_id', 'sample_id', 'n_genes', 'n_genes_by_counts', 'total_counts', 'total_counts_mt', 'pct_counts_mt', 'leiden'\n",
       "    var: 'n_cells', 'mt', 'n_cells_by_counts', 'mean_counts', 'pct_dropout_by_counts', 'total_counts', 'highly_variable', 'means', 'dispersions', 'dispersions_norm', 'mean', 'std'\n",
       "    uns: 'hvg', 'leiden', 'leiden_colors', 'leiden_sizes', 'log1p', 'neighbors', 'paga', 'patient_id_colors', 'pca', 'rank_genes_groups', 'sample_id_colors', 'umap'\n",
       "    obsm: 'X_pca', 'X_pca_harmony', 'X_umap'\n",
       "    varm: 'PCs'\n",
       "    obsp: 'connectivities', 'distances'"
      ]
     },
     "execution_count": 7,
     "metadata": {},
     "output_type": "execute_result"
    }
   ],
   "source": [
    "## so first we will read in the single cell object\n",
    "import scanpy as sc\n",
    "\n",
    "adata = sc.read_h5ad(\"/scratch/user/s4735100/harmony.h5ad\")\n",
    "adata"
   ]
  },
  {
   "cell_type": "code",
   "execution_count": null,
   "metadata": {},
   "outputs": [
    {
     "data": {
      "text/plain": [
       "AnnData object with n_obs × n_vars = 89927 × 24842\n",
       "    obs: 'patient_id', 'sample_id', 'n_genes', 'n_genes_by_counts', 'total_counts', 'total_counts_mt', 'pct_counts_mt', 'leiden'\n",
       "    var: 'n_cells', 'mt', 'n_cells_by_counts', 'mean_counts', 'pct_dropout_by_counts', 'total_counts', 'highly_variable', 'means', 'dispersions', 'dispersions_norm'\n",
       "    uns: 'hvg', 'leiden', 'leiden_colors', 'leiden_sizes', 'log1p', 'neighbors', 'paga', 'patient_id_colors', 'pca', 'rank_genes_groups', 'sample_id_colors', 'umap'\n",
       "    obsm: 'X_pca', 'X_pca_harmony', 'X_umap'\n",
       "    obsp: 'connectivities', 'distances'"
      ]
     },
     "execution_count": 8,
     "metadata": {},
     "output_type": "execute_result"
    }
   ],
   "source": [
    "adata2 = adata.raw.to_adata()\n",
    "adata2"
   ]
  },
  {
   "cell_type": "code",
   "execution_count": null,
   "metadata": {},
   "outputs": [],
   "source": [
    "adata2.write_h5ad(count_file_path, compression=\"gzip\")"
   ]
  },
  {
   "cell_type": "code",
   "execution_count": null,
   "metadata": {},
   "outputs": [
    {
     "data": {
      "text/html": [
       "<div>\n",
       "<style scoped>\n",
       "    .dataframe tbody tr th:only-of-type {\n",
       "        vertical-align: middle;\n",
       "    }\n",
       "\n",
       "    .dataframe tbody tr th {\n",
       "        vertical-align: top;\n",
       "    }\n",
       "\n",
       "    .dataframe thead th {\n",
       "        text-align: right;\n",
       "    }\n",
       "</style>\n",
       "<table border=\"1\" class=\"dataframe\">\n",
       "  <thead>\n",
       "    <tr style=\"text-align: right;\">\n",
       "      <th></th>\n",
       "      <th>barcode_sample</th>\n",
       "      <th>cell_type</th>\n",
       "    </tr>\n",
       "  </thead>\n",
       "  <tbody>\n",
       "    <tr>\n",
       "      <th>0</th>\n",
       "      <td>AAACCTGAGCGTCAAG-1</td>\n",
       "      <td>RPC1</td>\n",
       "    </tr>\n",
       "    <tr>\n",
       "      <th>1</th>\n",
       "      <td>AAACCTGAGTGACTCT-1</td>\n",
       "      <td>RPC1</td>\n",
       "    </tr>\n",
       "    <tr>\n",
       "      <th>2</th>\n",
       "      <td>AAACCTGCAAGAAGAG-1</td>\n",
       "      <td>unknown2</td>\n",
       "    </tr>\n",
       "    <tr>\n",
       "      <th>3</th>\n",
       "      <td>AAACCTGCACTGTCGG-1</td>\n",
       "      <td>RPC3</td>\n",
       "    </tr>\n",
       "    <tr>\n",
       "      <th>4</th>\n",
       "      <td>AAACCTGCAGATAATG-1</td>\n",
       "      <td>Interneuron</td>\n",
       "    </tr>\n",
       "    <tr>\n",
       "      <th>...</th>\n",
       "      <td>...</td>\n",
       "      <td>...</td>\n",
       "    </tr>\n",
       "    <tr>\n",
       "      <th>89922</th>\n",
       "      <td>TTTGTCATCGATGAGG-1-1</td>\n",
       "      <td>RPC4</td>\n",
       "    </tr>\n",
       "    <tr>\n",
       "      <th>89923</th>\n",
       "      <td>TTTGTCATCTCAAACG-1</td>\n",
       "      <td>RPC6</td>\n",
       "    </tr>\n",
       "    <tr>\n",
       "      <th>89924</th>\n",
       "      <td>TTTGTCATCTCATTCA-1-1</td>\n",
       "      <td>CP1</td>\n",
       "    </tr>\n",
       "    <tr>\n",
       "      <th>89925</th>\n",
       "      <td>TTTGTCATCTCGCATC-1</td>\n",
       "      <td>RPC7</td>\n",
       "    </tr>\n",
       "    <tr>\n",
       "      <th>89926</th>\n",
       "      <td>TTTGTCATCTGATTCT-1</td>\n",
       "      <td>CP1</td>\n",
       "    </tr>\n",
       "  </tbody>\n",
       "</table>\n",
       "<p>89927 rows × 2 columns</p>\n",
       "</div>"
      ],
      "text/plain": [
       "             barcode_sample    cell_type\n",
       "0        AAACCTGAGCGTCAAG-1         RPC1\n",
       "1        AAACCTGAGTGACTCT-1         RPC1\n",
       "2        AAACCTGCAAGAAGAG-1     unknown2\n",
       "3        AAACCTGCACTGTCGG-1         RPC3\n",
       "4        AAACCTGCAGATAATG-1  Interneuron\n",
       "...                     ...          ...\n",
       "89922  TTTGTCATCGATGAGG-1-1         RPC4\n",
       "89923    TTTGTCATCTCAAACG-1         RPC6\n",
       "89924  TTTGTCATCTCATTCA-1-1          CP1\n",
       "89925    TTTGTCATCTCGCATC-1         RPC7\n",
       "89926    TTTGTCATCTGATTCT-1          CP1\n",
       "\n",
       "[89927 rows x 2 columns]"
      ]
     },
     "execution_count": 10,
     "metadata": {},
     "output_type": "execute_result"
    }
   ],
   "source": [
    "metadata = pd.DataFrame(adata2.obs[\"leiden\"]).reset_index()\n",
    "metadata.columns = [\"barcode_sample\", \"cell_type\"]\n",
    "metadata"
   ]
  },
  {
   "cell_type": "code",
   "execution_count": null,
   "metadata": {},
   "outputs": [],
   "source": [
    "metadata.to_csv(meta_file_path, sep=\"\\t\", index=False)"
   ]
  },
  {
   "cell_type": "code",
   "execution_count": null,
   "metadata": {},
   "outputs": [
    {
     "name": "stdout",
     "output_type": "stream",
     "text": [
      "Reading user files...\n",
      "The following user files were loaded successfully:\n",
      "/scratch/user/s4735100/countcpdb.h5ad\n",
      "/scratch/user/s4735100/metadata.tsv\n",
      "[ ][CORE][22/09/23-14:32:10][INFO] [Cluster Statistical Analysis] Threshold:0.1 Iterations:1000 Debug-seed:42 Threads:2 Precision:3\n",
      "[ ][CORE][22/09/23-14:32:10][WARNING] Debug random seed enabled. Set to 42\n",
      "[ ][CORE][22/09/23-14:32:15][INFO] Running Real Analysis\n",
      "[ ][CORE][22/09/23-14:32:15][INFO] Running Statistical Analysis\n"
     ]
    },
    {
     "name": "stderr",
     "output_type": "stream",
     "text": [
      "100%|█████████████████████████████████████████████████████████████████████████████████████████████████████████| 1000/1000 [15:16<00:00,  1.09it/s]"
     ]
    },
    {
     "name": "stdout",
     "output_type": "stream",
     "text": [
      "[ ][CORE][22/09/23-14:47:32][INFO] Building Pvalues result\n"
     ]
    },
    {
     "name": "stderr",
     "output_type": "stream",
     "text": [
      "\n"
     ]
    },
    {
     "name": "stdout",
     "output_type": "stream",
     "text": [
      "[ ][CORE][22/09/23-14:47:32][INFO] Building results\n",
      "Saved deconvoluted to /scratch/user/s4735100/cellphonedb_out/statistical_analysis_deconvoluted_09_22_2023_14:47:32.txt\n",
      "Saved means to /scratch/user/s4735100/cellphonedb_out/statistical_analysis_means_09_22_2023_14:47:32.txt\n",
      "Saved pvalues to /scratch/user/s4735100/cellphonedb_out/statistical_analysis_pvalues_09_22_2023_14:47:32.txt\n",
      "Saved significant_means to /scratch/user/s4735100/cellphonedb_out/statistical_analysis_significant_means_09_22_2023_14:47:32.txt\n"
     ]
    }
   ],
   "source": [
    "from cellphonedb.src.core.methods import cpdb_statistical_analysis_method\n",
    "\n",
    "deconvoluted, means, pvalues, significant_means = cpdb_statistical_analysis_method.call(\n",
    "    cpdb_file_path = cpdb_file_path,                 # mandatory: CellPhoneDB database zip file.\n",
    "    meta_file_path = meta_file_path,                 # mandatory: tsv file defining barcodes to cell label.\n",
    "    counts_file_path = count_file_path,             # mandatory: normalized count matrix.\n",
    "    counts_data = 'hgnc_symbol',                     # defines the gene annotation in counts matrix.\n",
    "    iterations = 1000,                               # denotes the number of shufflings performed in the analysis.\n",
    "    threshold = 0.1,                                 # defines the min % of cells expressing a gene for this to be employed in the analysis.\n",
    "    threads = 2,                                     # number of threads to use in the analysis.\n",
    "    debug_seed = 42,                                 # debug randome seed. To disable >=0.\n",
    "    result_precision = 3,                            # Sets the rounding for the mean values in significan_means.\n",
    "    pvalue = 0.05,                                   # P-value threshold to employ for significance.\n",
    "    subsampling = False,                             # To enable subsampling the data (geometri sketching).\n",
    "    subsampling_log = False,                         # (mandatory) enable subsampling log1p for non log-transformed data inputs.\n",
    "    subsampling_num_pc = 100,                        # Number of componets to subsample via geometric skectching (dafault: 100).\n",
    "    subsampling_num_cells = 1000,                    # Number of cells to subsample (integer) (default: 1/3 of the dataset).\n",
    "    separator = '|',                                 # Sets the string to employ to separate cells in the results dataframes \"cellA|CellB\".\n",
    "    debug = False,                                   # Saves all intermediate tables employed during the analysis in pkl format.\n",
    "    output_path = out_path,                          # Path to save results.\n",
    "    output_suffix = None                             # Replaces the timestamp in the output files by a user defined string in the  (default: None).\n",
    "    )\n"
   ]
  },
  {
   "cell_type": "code",
   "execution_count": null,
   "metadata": {},
   "outputs": [],
   "source": [
    "import ktplotspy as kpy\n",
    "import matplotlib.pyplot as plt"
   ]
  }
 ],
 "metadata": {
  "kernelspec": {
   "display_name": "Python 3 (ipykernel)",
   "language": "python",
   "name": "python3"
  },
  "language_info": {
   "codemirror_mode": {
    "name": "ipython",
    "version": 3
   },
   "file_extension": ".py",
   "mimetype": "text/x-python",
   "name": "python",
   "nbconvert_exporter": "python",
   "pygments_lexer": "ipython3",
   "version": "3.8.17"
  },
  "orig_nbformat": 4
 },
 "nbformat": 4,
 "nbformat_minor": 2
}
