{
 "cells": [
  {
   "cell_type": "code",
   "execution_count": 1,
   "metadata": {},
   "outputs": [],
   "source": [
    "import scanpy as sc"
   ]
  },
  {
   "cell_type": "code",
   "execution_count": 2,
   "metadata": {},
   "outputs": [],
   "source": [
    "import pandas as pd"
   ]
  },
  {
   "cell_type": "code",
   "execution_count": 3,
   "metadata": {},
   "outputs": [],
   "source": [
    "import numpy as np"
   ]
  },
  {
   "cell_type": "code",
   "execution_count": 30,
   "metadata": {},
   "outputs": [],
   "source": [
    "from tqdm import tqdm\n",
    "# use a progress bar "
   ]
  },
  {
   "cell_type": "code",
   "execution_count": 31,
   "metadata": {},
   "outputs": [],
   "source": [
    "sample_folders = [\"RB01_rep1\", \"RB01_rep2\", \"RB02_rep1\", \"RB02_rep2\", \"RB03_rep1\", \"RB03_rep2\", \"RB04\", \"RB05\", \"RB06\", \"RB07\",]\n",
    "# Create an empty list first\n",
    "adata_list = []"
   ]
  },
  {
   "cell_type": "code",
   "execution_count": 32,
   "metadata": {},
   "outputs": [
    {
     "name": "stderr",
     "output_type": "stream",
     "text": [
      "  0%|          | 0/10 [00:00<?, ?it/s]"
     ]
    },
    {
     "name": "stdout",
     "output_type": "stream",
     "text": [
      "Reading files at:D:/Research raw data/RB01_rep1\n"
     ]
    },
    {
     "name": "stderr",
     "output_type": "stream",
     "text": [
      " 10%|█         | 1/10 [02:24<21:40, 144.49s/it]"
     ]
    },
    {
     "name": "stdout",
     "output_type": "stream",
     "text": [
      "Reading files at:D:/Research raw data/RB01_rep2\n"
     ]
    },
    {
     "name": "stderr",
     "output_type": "stream",
     "text": [
      " 20%|██        | 2/10 [05:10<20:58, 157.29s/it]"
     ]
    },
    {
     "name": "stdout",
     "output_type": "stream",
     "text": [
      "Reading files at:D:/Research raw data/RB02_rep1\n"
     ]
    },
    {
     "name": "stderr",
     "output_type": "stream",
     "text": [
      " 30%|███       | 3/10 [06:27<14:03, 120.48s/it]"
     ]
    },
    {
     "name": "stdout",
     "output_type": "stream",
     "text": [
      "Reading files at:D:/Research raw data/RB02_rep2\n"
     ]
    },
    {
     "name": "stderr",
     "output_type": "stream",
     "text": [
      " 40%|████      | 4/10 [07:04<08:45, 87.53s/it] "
     ]
    },
    {
     "name": "stdout",
     "output_type": "stream",
     "text": [
      "Reading files at:D:/Research raw data/RB03_rep1\n"
     ]
    }
   ],
   "source": [
    "# use a for-loop to read in all the files\n",
    "for sample in tqdm(sample_folders): \n",
    "    pathname = \"D:/Research raw data/\"+sample\n",
    "    print(\"Reading files at:\" + pathname)\n",
    "    adata=sc.read_10x_mtx(\"D:/Research raw data/\"+sample)\n",
    "    patient_id = sample[:4] # extract the patient info\n",
    "    sample_id = sample # extract the sample info\n",
    "    # we add the patient and sample information into our adata object, specifically, the .obs slot\n",
    "    # .obs stands for observation i.e every single-cell is an observation\n",
    "    adata.obs[\"patient_id\"] = patient_id\n",
    "    adata.obs[\"sample_id\"] = sample_id\n",
    "    # the function will complain that we need to run this\n",
    "    adata.var_names_make_unique() # a var, stands for variable i.e. genes. so this function is to make the gene names unique\n",
    "    # why? because multiple ensembl gene ids can map to the same gene e.g. spliced isoforms. sometimes we care about spliced isoforms and we want to keep them separate\n",
    "    # so something like IL6, would be become IL6 and IL6-1\n",
    "    adata_list.append(adata) # append to my adata_list above, iteratively\n",
    "\n",
    "# finally, concatenate all the objects into a singlular one\n",
    "adata = sc.concat(adata_list)\n",
    "# print what the final object looks like\n",
    "adata\n"
   ]
  },
  {
   "cell_type": "code",
   "execution_count": 16,
   "metadata": {},
   "outputs": [
    {
     "name": "stdout",
     "output_type": "stream",
     "text": [
      "True\n",
      "True\n"
     ]
    }
   ],
   "source": [
    "# check if location is directory.\n",
    "import os\n",
    "\n",
    "print(os.path.isdir(\"D:/Research raw data/RB01_rep1\"))\n",
    "\n",
    "# check if something is a file\n",
    "print(os.path.isfile(\"D:/Research raw data/RB01_rep1/barcodes.tsv.gz\"))\n"
   ]
  },
  {
   "cell_type": "code",
   "execution_count": 20,
   "metadata": {},
   "outputs": [
    {
     "data": {
      "text/plain": [
       "'RB05'"
      ]
     },
     "execution_count": 20,
     "metadata": {},
     "output_type": "execute_result"
    }
   ],
   "source": [
    "folder = \"RB05\"\n",
    "folder[:5]"
   ]
  },
  {
   "cell_type": "code",
   "execution_count": null,
   "metadata": {},
   "outputs": [],
   "source": [
    "# save the adata, so you don't have to keep reading in like this\n",
    "adata.write_h5ad(\"D:/Research raw data/adata_rb.h5ad\", compression=\"gzip\")"
   ]
  },
  {
   "cell_type": "code",
   "execution_count": null,
   "metadata": {},
   "outputs": [],
   "source": [
    "# in the future, you can open a new notebook and just do\n",
    "# import scanpy as sc\n",
    "# adata_rb = sc.read_h5ad(\"D:/Research raw data/adata_rb.h5ad\")\n",
    "# adata_rb"
   ]
  },
  {
   "cell_type": "code",
   "execution_count": null,
   "metadata": {},
   "outputs": [],
   "source": [
    "# say if you have a control object read in the same as above:\n",
    "# you can contenate like:\n",
    "# adata_combined = sc.concat([adata_rb, adata_ctrl])\n",
    "# print what the final object looks like \n",
    "# adata_combined"
   ]
  },
  {
   "cell_type": "code",
   "execution_count": null,
   "metadata": {},
   "outputs": [],
   "source": []
  }
 ],
 "metadata": {
  "kernelspec": {
   "display_name": "MEDI7281",
   "language": "python",
   "name": "python3"
  },
  "language_info": {
   "codemirror_mode": {
    "name": "ipython",
    "version": 3
   },
   "file_extension": ".py",
   "mimetype": "text/x-python",
   "name": "python",
   "nbconvert_exporter": "python",
   "pygments_lexer": "ipython3",
   "version": "3.11.4"
  },
  "orig_nbformat": 4
 },
 "nbformat": 4,
 "nbformat_minor": 2
}
